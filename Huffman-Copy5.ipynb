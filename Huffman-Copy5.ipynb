{
 "cells": [
  {
   "cell_type": "markdown",
   "metadata": {},
   "source": [
    "# Code de Huffman"
   ]
  },
  {
   "cell_type": "markdown",
   "metadata": {},
   "source": [
    "Intro:\n",
    "J'ai choisi de l'appliquer à des chaines de caractéres."
   ]
  },
  {
   "cell_type": "markdown",
   "metadata": {},
   "source": [
    "Rq : J'ai choisi d'écrire les algorithmes écrits en langage naturel, car le pseudo code n'est pas au programme de NSI. Dans le programme il est indiqué que python étant très proche du pseudo code on peut s'en passer. "
   ]
  },
  {
   "cell_type": "code",
   "execution_count": 2,
   "metadata": {},
   "outputs": [],
   "source": [
    "phrase = \"Le covid c'est pas fantastique, les vacances on travaille le projet\""
   ]
  },
  {
   "cell_type": "markdown",
   "metadata": {},
   "source": [
    "# I. Compression"
   ]
  },
  {
   "cell_type": "markdown",
   "metadata": {},
   "source": [
    "### Etapes de la compression : ###\n",
    "[1. obtenir les occurences des caractéres de la chaine de caractére](#occurence)    \n",
    "[2. construire l'arbre de Huffmann](#contruction_arbre)    \n",
    "   * [je propose une version en utilisant la structure \"tas\", c'est ce qu'on trouve classiquement ;-)](#arbre_avec_tas)\n",
    "   * [une autre sans les tas, avec des listes](#arbre_avec_liste)\n",
    "   \n",
    "3. calcul de la table de codage par un parcours d’arbre\n",
    "4. utilisation du code "
   ]
  },
  {
   "cell_type": "markdown",
   "metadata": {},
   "source": [
    "\n",
    "<div id=\"occurence\">\n",
    "<h1>1. Ocurences des caractéres</h1>\n",
    "    \n",
    "Pour former l'arbre de Huffman, il faut déterminer les occurences de chacun des caractéres apparaissant dans le texte.\n",
    "Ci dessous, une fonction qui renvoie un dictionnaire contenant les occurences de chacun des caractéres présents d'une chaine de caractére (les clés sont les caractéres, les valeurs sont les occurences) puis une fonction pour convertir le dictionnaire en liste, ou en tas, pour la suite"
   ]
  },
  {
   "cell_type": "code",
   "execution_count": 3,
   "metadata": {},
   "outputs": [],
   "source": [
    "def creationDictionnaireOccurence(u):\n",
    "    '''Entrée : u : une chaine de caractére e\n",
    "    Sortie : dictionnaire {caractére : occurence}'''\n",
    "    occu = {}\n",
    "    for c in u :\n",
    "        if c in occu : #si la clé n'existe pas, on la crée et on met la valeur à 1\n",
    "            occu[c]+=1\n",
    "        else :\n",
    "            occu[c]=1 #sinon on ajoute 1 la valeur de la clé\n",
    "    return occu\n",
    "    "
   ]
  },
  {
   "cell_type": "markdown",
   "metadata": {},
   "source": [
    "<div class=\"alert alert-warning\" role=\"alert\">\n",
    "Correction :   \n",
    "    \n",
    "  - Terminaison : boucle for qui se termine après O(n) opérations(avec n  longueur de la chaine de caractéres, car on itére sur chacun des caractéres de la chaine.\n",
    "     \n",
    "  - Validité  : invariant de boucle : Après k itérations, le dictionnaire contient les occurences des caractéres présents dans la partie de la chaine du début jusqu'au  kéme caractéres. (Puis par récurence...)   "
   ]
  },
  {
   "cell_type": "code",
   "execution_count": 4,
   "metadata": {},
   "outputs": [],
   "source": [
    "def conversionDictionnaireOccurenceEnListe(dico):\n",
    "    '''Entrée : u : une chaine de caractére e\n",
    "    Sortie : liste contenant des tuples(occurence,('F', caractere)'''\n",
    "    liste = [(occurence,('F', lettre)) for lettre,occurence in dico.items()]\n",
    "    return liste"
   ]
  },
  {
   "cell_type": "markdown",
   "metadata": {},
   "source": [
    "<div class=\"alert alert-warning\" role=\"alert\">\n",
    "Correction  :  \n",
    "    \n",
    "   - Terminaison : la conversion du dictionnaire se termine après O(n) (n longueur de la chaine de carctére, car on itére sur chacun items du tableau, et au pire, il y a autant d'items que de caractére, si la chaine de caractére de départ ne contient que des caractéres différents.)\n",
    "   \n",
    "   - Validité  : invariant de boucle : Après k itérations, la liste contient les occurences de k caractéres du dictionnaire  . (Puis par récurence...)   "
   ]
  },
  {
   "cell_type": "code",
   "execution_count": 5,
   "metadata": {},
   "outputs": [],
   "source": [
    "def conversionDictionnaireOccurenceEnTas(dico):\n",
    "    tas = [(occurence,('F', lettre)) for lettre,occurence in dico.items() ]#on convertit le dictionnaire en liste\n",
    "    convertirListeEnTas(tas)# on \"tamise\" la liste pour en faire un tas (voir plus bas la notion de tas)\n",
    "    return tas"
   ]
  },
  {
   "cell_type": "markdown",
   "metadata": {},
   "source": [
    "<div class=\"alert alert-warning\" role=\"alert\">\n",
    "Correction  :  \n",
    "    \n",
    "   - Terminaison : la conversion du dictionnaire en liste se termine après O(n) opérations (n longueur de la chaine de caractére, car on itére sur chacun  des items du dictionnaire, et au pire, il y a autant d' item que de caractére, si la chaine de caractére de départ ne contient que des caractéres différents. Et la fonction `heapify` est en O(n) aussi <a herf=\"#arbre_avec_tas\">démonstration plus bas</a>. Donc la fonction a une complexité en O(n)\n",
    "   \n",
    "   - Validité : invariant de boucle : Après k itérations, la liste contient les occurences de k caractéres du dictionnaire  . (Puis par récurence...). Vois validite de la fonction `heapify` <a herf=\"#arbre_avec_tas\"> plus bas</a>\n",
    "    "
   ]
  },
  {
   "cell_type": "markdown",
   "metadata": {},
   "source": [
    "<div id =\"contruction_arbre\">\n",
    "    <h1> 2. La construction de l'arbre de Huffman</h1>\n",
    "    "
   ]
  },
  {
   "cell_type": "markdown",
   "metadata": {},
   "source": [
    "<div class=\"alert alert-success\" role=\"alert\">\n",
    "  <h4 class=\"alert-heading\">Comment j'ai choisi de représenter l'arbre de Huffman en Python ?</h4>\n",
    "\n",
    "\n",
    "* L'arbre vide est codé par le tuple vide () .  \n",
    "* les feuilles seront représentées par le t-uplet (occurence,('F', a)) ( F comme \"feuille\").   \n",
    "* Les noeuds ont un fils gauche et un fils droit . Soient G et D leurs représentations :   \n",
    "les noeuds seront représentés par le t-uplet (somme des occurences,('N', G, D)) ( N comme \"noeud\").\n",
    "\n",
    "> Rq : J'ai choisi d'utiliser des t-uplets pour représenter les feuilles et les noeuds plutot que des dictionnaires pour m'affranchir du problème lors de la comparaison par la fonction heapq.heappush.\n",
    "En effet pour \"ranger le tas correctement\", la fonction compare (strictement) les clés de priorité, et en cas d'égalité sur la valeur de la clé de priorité, va comparer la valeur suivante de l'élement, mais on ne peut pas comparer des dictionnaires en python ! Par contre on peut comparer des listes..."
   ]
  },
  {
   "cell_type": "markdown",
   "metadata": {},
   "source": [
    "<div id = \"arbre_avec_tas\">\n",
    "<h2 > Construction de l'arbre en utilisant un tas</h2>"
   ]
  },
  {
   "cell_type": "markdown",
   "metadata": {},
   "source": [
    "\n",
    "Pour fabriquer l'arbre de Huffman associé au dictionnaire contenant les occurences des caractéres, on peut utiliser un tas.\n",
    "On lit dans wikipédia :\n",
    ">\"En informatique, un tas (ou monceau au Canada2, heap en anglais) est une structure de données de type arbre qui permet de retrouver directement l'élément que l'on veut traiter en priorité.  \n",
    "\n",
    "C'est ce que l'on veut dans la construction de l'arbre de Huffman !\n",
    "\n",
    "En effet un arbre de Huffmann est un arbre binaire, et on veut pouvoir traiter les noeuds de poids (occurence) faibles. Ce que permet typiquement un arbre.\n",
    "\n",
    ">On dit qu'un arbre est ordonné en tas lorsque la propriété suivante est vérifiée :\n",
    ">\n",
    ">    Pour tous nœuds A et B de l'arbre tels que B soit un fils de A\n",
    ">    clé(A) ≥ clé(B)\n",
    ">\n",
    ">ou\n",
    ">\n",
    ">    Pour tous nœuds A et B de l'arbre tels que B soit un fils de A\n",
    ">    clé(A) ≤ clé(B)\n",
    ">\n",
    ">Un arbre vérifiant cette propriété est aussi appelé « arbre tournoi »4. Cette propriété implique que la plus grande clé (ou la plus petite) soit située à la racine du tas. Ils sont ainsi très utilisés pour implémenter les files à priorités car ils permettent des insertions en temps logarithmique et un accès direct au plus grand élément. L'efficacité des opérations effectuée sur des tas est très importante dans de nombreux algorithmes sur les graphes. Les tas sont en outre utilisés dans l'algorithme de tri par tas.\n",
    ">\n",
    ">On peut ainsi représenter un tas à n éléments par un tableau à n cases, de la façon suivante :\n",
    ">\n",
    ">Si on note 0 le numéro de la racine du tas, on peut définir récursivement le numéro de tous les sommets dans l'arbre, grâce à la formule : Pour un sommet parent numéroté i, son fils gauche aura pour numéro 2*i+1, et son sommet droit 2*i+2. Le parent d'un sommet j a donc toujours pour numéro la partie entière inférieure de (j-1)/2.   \n",
    "\n",
    "<img src=\"heap.png\">\n",
    "\n",
    "<a href =\"https://towardsdatascience.com/data-structure-heap-23d4c78a6962\">source</a>  \n",
    "\n",
    "Un tas est une structure de données permettant les opérations suivantes :  \n",
    "- Mettre dans le tas un objet avec une priorité donnée (une priorité est, par exemple, un entier, ici ce sera l'occurence ou la somme des occurences des fils)\n",
    "- Retirer de la file l'objet de priorité minimale.\n",
    "\n",
    "\n",
    "> RQ : Pour le tri dans le tas    \n",
    "A valeur de clé de priorité (occurence (ou somme des occurences)) égale, l'emploi de p-uplet permet bien l'ordonnancement car, ce sera F avant N (par ordre alphabétique), et pour deux feuilles, ordre alphabétique du caractére, pour deux noeuds ordre alhabétique du fils gauche... ). Le caractére étant unique dans l'arbre, l'ordonnancement sera assuré.  \n",
    "\n",
    "<div class=\"alert alert-danger\" role=\"alert\">\n",
    "Voici l'algorithme, pour la construction de l'arbre en utilisant les tas :\n",
    "1. On met dans le tas les futures feuilles de notre arbre avec leurs occurence comme clé de priorité. Pour cela il suffit de lire le dictionnaire des occurences dont les clés sont les lettres et les valeurs sont les occurences. (Fais en haut dans la fonction conversionDictionnaireOccurenceEnTas)\n",
    "2. Pour k allant de 0 au nombre de feuilles -1 :  (il y a n feuilles, il y aura n-1 noeuds binaires) \n",
    "   * On retire du tas la racine ( et on réarange le tas), soit x cet élément. \n",
    "   * On retire du nouveau tas la racine ( et on réarange le tas), soit y cet élément. \n",
    "   * On crée le noeud z dont les deux fils sont x et y, et de priorité la somme des priorités des fils .   \n",
    "   * On met z dans le tas correctement rangé.   \n",
    "3. Maintenant, le tas contient un unique arbre. On renvoie cet arbre.   \n",
    "\n",
    "Il faut donc :\n",
    " * une fonction pour transformer une liste en tas, c'est ce que fait la fonction `convertirListeEnTas` \n",
    " * une fonction pour retirer la racine du tas (occurence la plus petite) et réaranger le tas, c'est ce que fait la fonction `suppressionDeLaRacine`\n",
    " * une fonction pour ajouter un noeud dans le tas et réaranger le tas, c'est ce que fait la fonction `insererElement`\n",
    " "
   ]
  },
  {
   "cell_type": "markdown",
   "metadata": {},
   "source": [
    "### Les fonctions nécessaires pour manipuler les tas binaires ###\n",
    "\n",
    "Rq : hauteur d'un tas : h (un tas est un arbre binaire presque complet)\n",
    "Un tas T qui emmagasine n élements a une hauteur h = O(log n)\n",
    "Preuve:   \n",
    "–Soit h la hauteur d'un tas stockant les n  clés   \n",
    "–Puisque il y a 2 ** i clés à la profondeur i= 0, ... , h - 2 et au moins une clé à profondeur h - 1, nous avons $ n ≥ 1 + 2 + 4 +...+ 2^{h-2}  + 1  $ \n",
    "–Ainsi, $ n ≥  2^{h-1} $  , i.e., h ≤ log(n) + 1\n",
    "\n",
    "Fonction heapify\n",
    "entrée : une liste de n éléments\n",
    "sortie : une liste qui implémente un tas de n éléments\n",
    "\n",
    "L'algorithme est le suivant :\n",
    "1. on prend "
   ]
  },
  {
   "cell_type": "markdown",
   "metadata": {},
   "source": [
    "Fonction `suppressionDeLaRacine` (c'est à dire du min)        \n",
    "  + entrée : une liste qui implémente un tas de n éléments\n",
    "  + sortie : une liste qui implémente un tas constitué des n-1 élements du tas d'entrée moins sa racine **et** la racine supprimée\n",
    "\n",
    "**Algorithme**\n",
    "1. On remplace la racine (c'est à dire l'élément 0 de la liste) par le dernier élement du tas \n",
    "2. on fait descendre cet élément dans le tas, en réagençant les différents éléments, pour garder la structure de tas.\n",
    "\n",
    "Pour l'étape 2, il nous faut une procédure `descendre` (de la racine vers les feuilles)\n",
    "  + Entrée : une liste qui implémente un tas, sauf 1 élément d'indice i **et** l'indice i\n",
    "  + Sortie : une liste qui implémente un tas\n",
    "  \n",
    "**Algorithme**   \n",
    "Tant que l'on a pas atteint l'avant dernier étage (indice dans la liste <n//2) ou que l'élément n'est pas plus petit que ces deux enfants   \n",
    "  * On compare l'élement i à ses deux enfants (2*i et 2*i+1)\n",
    "  * Si l'élément i est plus grand qu'un de ses enfants (ou les deux) on l'échange avec le plus petit de ses enfants et i prend la valeur de l'indice de l'enfant avec qui on l'a échangé\n"
   ]
  },
  {
   "cell_type": "code",
   "execution_count": 6,
   "metadata": {},
   "outputs": [
    {
     "name": "stdout",
     "output_type": "stream",
     "text": [
      "ienf1 1\n",
      "[4, 20, 6, 21, 10, 7, 8, 22, 28, 13, 19, 25]\n",
      "ienf2 4\n",
      "[4, 10, 6, 21, 20, 7, 8, 22, 28, 13, 19, 25]\n",
      "ienf1 9\n",
      "[4, 10, 6, 21, 13, 7, 8, 22, 28, 20, 19, 25]\n",
      "[4, 10, 6, 21, 13, 7, 8, 22, 28, 20, 19, 25]\n",
      "ienf2 2\n",
      "[6, 10, 25, 21, 13, 7, 8, 22, 28, 20, 19]\n",
      "ienf1 5\n",
      "[6, 10, 7, 21, 13, 25, 8, 22, 28, 20, 19]\n",
      "[6, 10, 7, 21, 13, 25, 8, 22, 28, 20, 19]\n",
      "ienf2 2\n",
      "[7, 10, 19, 21, 13, 25, 8, 22, 28, 20]\n",
      "ienf2 6\n",
      "[7, 10, 8, 21, 13, 25, 19, 22, 28, 20]\n",
      "[7, 10, 8, 21, 13, 25, 19, 22, 28, 20]\n",
      "ienf2 2\n",
      "[8, 10, 20, 21, 13, 25, 19, 22, 28]\n",
      "ienf2 6\n",
      "[8, 10, 19, 21, 13, 25, 20, 22, 28]\n",
      "[8, 10, 19, 21, 13, 25, 20, 22, 28]\n",
      "ienf1 1\n",
      "[10, 28, 19, 21, 13, 25, 20, 22]\n",
      "ienf2 4\n",
      "[10, 13, 19, 21, 28, 25, 20, 22]\n",
      "[10, 13, 19, 21, 28, 25, 20, 22]\n",
      "ienf1 1\n",
      "[13, 22, 19, 21, 28, 25, 20]\n",
      "ienf1 3\n",
      "[13, 21, 19, 22, 28, 25, 20]\n",
      "[13, 21, 19, 22, 28, 25, 20]\n",
      "ienf2 2\n",
      "[19, 21, 20, 22, 28, 25]\n",
      "[19, 21, 20, 22, 28, 25]\n",
      "ienf2 2\n",
      "[20, 21, 25, 22, 28]\n",
      "[20, 21, 25, 22, 28]\n",
      "ienf1 1\n",
      "[21, 28, 25, 22]\n",
      "ienf1unique 3\n",
      "[21, 22, 25, 28]\n",
      "ienf1 1\n",
      "[22, 28, 25]\n",
      "[22, 28, 25]\n",
      "[25, 28]\n",
      "[28]\n",
      "[]\n"
     ]
    }
   ],
   "source": [
    "def descendre (presqueTas,i): #on descend l'élément i vers les feuilles jusqu'à ce que l'élément soit dans une position de parent qui respecte la structure de tas\n",
    "    n= len(presqueTas)\n",
    "    \n",
    "    while i<n//2 : #on descends juste avant les feuilles\n",
    "        indiceEnf1 = 2*i+1 #les enfants sont en 2*i+1 et 2*i+2 le deuxieme enfant n 'existe pas forcement'\n",
    "        enfant1 = presqueTas[indiceEnf1]\n",
    "        if indiceEnf1<(n-1) : #cela signifie qu 'il y a le deuxieme enfant'\n",
    "            indiceEnf2 = 2*i+2 \n",
    "            \n",
    "            enfant2 = presqueTas[indiceEnf2]\n",
    "            if presqueTas[i]>enfant1 or presqueTas[i]>enfant2:\n",
    "                if (enfant2>enfant1): #on échange avec le plus petit des enfants\n",
    "                    presqueTas[i],presqueTas[indiceEnf1] = presqueTas[indiceEnf1],presqueTas[i]\n",
    "                    i =indiceEnf1\n",
    "                    print ('ienf1',i)\n",
    "                else :\n",
    "                    presqueTas[i],presqueTas[indiceEnf2] = presqueTas[indiceEnf2],presqueTas[i]\n",
    "                    i =indiceEnf2\n",
    "                    print ('ienf2',i)\n",
    "                print(tas)\n",
    "            else : break  \n",
    "        else : #il n'y a qu'un enfant on vérifie si il faut faire l'échange ou pas \n",
    "            if presqueTas[i]>enfant1:\n",
    "                    presqueTas[i],presqueTas[indiceEnf1] = presqueTas[indiceEnf1],presqueTas[i]\n",
    "                    i =indiceEnf1\n",
    "                    print ('ienf1unique',i)\n",
    "            else: break\n",
    "            \n",
    "def _siftup(heap, pos):\n",
    "    endpos = len(heap)\n",
    "    startpos = pos\n",
    "    newitem = heap[pos]\n",
    "    # Bubble up the smaller child until hitting a leaf.\n",
    "    childpos = 2*pos + 1    # leftmost child position\n",
    "    while childpos < endpos:\n",
    "        # Set childpos to index of smaller child.\n",
    "        rightpos = childpos + 1\n",
    "        if rightpos < endpos and not heap[childpos] < heap[rightpos]:\n",
    "            childpos = rightpos\n",
    "        # Move the smaller child up.\n",
    "        heap[pos] = heap[childpos]\n",
    "        pos = childpos\n",
    "        childpos = 2*pos + 1\n",
    "    # The leaf at pos is empty now.  Put newitem there, and bubble it up\n",
    "    # to its final resting place (by sifting its parents down).\n",
    "    heap[pos] = newitem\n",
    "    _siftdown(heap, startpos, pos)\n",
    "    \n",
    "    \n",
    "def suppressionDeLaRacine(tas):\n",
    "    racine = tas[0]\n",
    "    tas[0]=tas[len(tas)-1]\n",
    "    tas.pop()\n",
    "    descendre (tas,0)\n",
    "    return (racine)\n",
    "#### Pour tester :\n",
    "if True :\n",
    "    tas = [3,4,6,21,10,7,8,22,28,13,19,25,20]\n",
    "    for i in range(len(tas)):\n",
    "        suppressionDeLaRacine(tas)\n",
    "        print (tas)"
   ]
  },
  {
   "cell_type": "markdown",
   "metadata": {},
   "source": [
    "<div class=\"alert alert-warning\" role=\"alert\">\n",
    "Correction de la fonction descendre:  \n",
    "    \n",
    "   - Terminaison : \n",
    "     - Descendre se terminera après O(log n) opérations car au pire on fera descendre de la racine jusqu'à une feuille l'élément, c'est à dire de toute la hauteur de l'arbre -1 = h-1 qui est O(log n).  \n",
    "     - Une autre façon de voir, est de definir le convergent : n//2 - i,i, est ua pire des cas initialisé à 0, et i est multiplié par 2 à chaque itération, donc la boucle se termine, et au pire il y aura log(n) itérations.\n",
    "   \n",
    "   - Validité : Il faut vérifier qu'à la fin, la liste a bien une structure de tas.\n",
    "     - Invariant de boucle : A la fin d'une itération, les élèments de la liste autre que i, 2.i+1 et 2.i+2 ont bien une structure de tas, c'est à dire que le parent est inférieur à ces deux enfants.\n",
    "     - Par récursivité :\n",
    "       - La première itération, la liste est rangée en tas (par précondition de l'entrée), sauf peut être i et ses enfants, lors de la première itération, on \"range\" en structure de tas i et ses enfants, et donne à i la valeur de l'indice de l'enfant avec qui il a été echangé. \n",
    "       - A chaque tour de boucle, on range correctement, i et ses enfants pour respecter la structure de tas, puis i prend la valeur de l'indice de l'enfant avec qui on l'a échangé, donc, la structure d'arbre est respectée, sauf pour le nouveau i et ses enfants.\n",
    "       - On sort de la boucle, soit si i est bien rangé, et comme tous les autres éléments sont bien rangés, la liste a bien une structure de tas. Soit si i>=n//2, c'est à dire si l'élément auquel on s'interesse est une feuille. (i>=n//2 ---> 2*i+1 >= n+1 donc il n'y a pas de fils pour l'élément i, et l'élément i est une feuille)\n",
    "       \n",
    "> Rq : la correction de la fonction suppressionDeLaRacine, dépend directement de la correction de la fonction descendre"
   ]
  },
  {
   "cell_type": "markdown",
   "metadata": {},
   "source": [
    "Fonction `insererElement`         \n",
    "  + entrée : une liste qui implémente un tas de n éléments **et** un élement à ajouter.\n",
    "  + sortie : une liste qui implémente un tas constitué des n élements du tas d'entrée et de l'élément à ajouter\n",
    "\n",
    "**Algorithme**\n",
    "1. On place l'élément à la fin de la liste \n",
    "2. on fait monter cet élément dans le tas (vers la racine), en réagençant les différents éléments, pour garder la structure de tas.\n",
    "\n",
    "Pour l'étape 2, il nous faut une procédure `monter` (des feuilles vers la racine)\n",
    "  + Entrée : une liste qui implémente un tas, sauf le dernier élément\n",
    "  + Sortie : une liste qui implémente un tas\n",
    "  \n",
    "**Algorithme**   \n",
    "Tant que l'on a pas atteint la racine (i>=1)  ou que l'élément n'est pas plus grand que son parent   \n",
    "  * On compare l'élement i à son parent d'indice ((i-1)//2)\n",
    "  * Si l'élément i est plus petit que son parent on l'échange avec le plus petit de ses enfants, et i prend  la valeur de l'indice du parent"
   ]
  },
  {
   "cell_type": "code",
   "execution_count": 7,
   "metadata": {},
   "outputs": [],
   "source": [
    "def rajouterElement (tas, e):\n",
    "    tas.append(e)\n",
    "    monter(tas)\n",
    "    return tas\n",
    "\n",
    "def monter (tas): #on monte le dernier élément jusqu'à une bonne place, vers la racine\n",
    "    i = len(tas)-1\n",
    "    while i>=1:\n",
    "        indiceParent = (i-1)//2\n",
    "        if tas[i]<tas[indiceParent] :\n",
    "            tas[i],tas[indiceParent] = tas[indiceParent],tas[i]\n",
    "            i = indiceParent\n",
    "        else :\n",
    "            break\n",
    "\n",
    "#### Pour tester :\n",
    "if False :            \n",
    "    tas = [3,4,6,21,10,7,8,22,28,13,19,25,20]\n",
    "    rajouterElement(tas,2)\n",
    "    print (tas)   "
   ]
  },
  {
   "cell_type": "markdown",
   "metadata": {},
   "source": [
    "<div class=\"alert alert-warning\" role=\"alert\">\n",
    "Correction de la fonction monter:  \n",
    "    \n",
    "   - Terminaison : \n",
    "     - Monter se terminera après O(log n) opérations car au pire on fera monter des feuilles jusqu'à la racine l'élément, c'est à dire de toute la hauteur de l'arbre -1 = h-1 qui est O(log n).  \n",
    "     - Une autre façon de voir, est de definir le convergent : i-3, i est  initialisé à la n (nombre d'élément), et i est divisé par 2 à chaque itération, donc la boucle se termine, et au pire il y aura log(n) itérations.\n",
    "   \n",
    "   - Validité : Il faut vérifier qu'à la fin, la liste a bien une structure de tas.\n",
    "     - Invariant de boucle : A la fin d'une itération, les élèments de la liste autre que i et son parent d'indice (i-1)//2 ont bien une structure de tas, c'est à dire que le parent est inférieur à ces deux enfants.\n",
    "     > Rq : Et le deuxième fils !\n",
    ">    - soit le dernier élément enf1 a un frère enf2, et son frere est superieur à son parent par, car la structure de tas est respécté donc enf2>par, si on effectue l'échange entre enf1 et parent, c'est que enf1<par, ce qui implique enf2>enf1 (or enf1 devient le parent de enf2) la structure de tas est respectée. \n",
    ">    - Si le dernier élément est fils unique, la question du deuxième enfant ne se pose pas !\n",
    "> Cela ne se pose que pour le dernier élèment, car un tas est un arbre binaire presque complet.\n",
    "     - Par récursivité :\n",
    "       - La première itération, \"range\", si nécessaire, en structure de tas le dernier élément et son parent (pour le deuxième enfant voir remarque ci-dessus), et donne à i la valeur de l'indice du parent avec qui il a été echangé. \n",
    "       - A chaque itération, on range correctement, i et son parent pour respecter la structure de tas, puis i prend la valeur de l'indice du parent avec qui on l'a échangé, donc, la structure d'arbre est respectée, sauf pour le nouveau i et son parent.\n",
    "       - On sort de la boucle, soit si i est bien rangé, et comme tous les autres éléments sont bien rangés, la liste a bien une structure de tas. Soit si i=0, c'est à dire si l'élément auquel on s'interesse est une racine. \n",
    "       \n",
    "> Rq : la correction de la fonction rajouterElement, dépend directement de la correction de la fonction monter"
   ]
  },
  {
   "cell_type": "markdown",
   "metadata": {},
   "source": [
    "Fonction `convertirListeEnTas`         \n",
    "  + entrée : une liste a n éléments (avec une clé de priorité)\n",
    "  + sortie : une liste qui implémente un tas constitué des n élements de la liste\n",
    "  \n",
    "Nous pourrions choisir d'insérer les n éléments un par un (insérerElément en O(log n ), pour chacun de n éléments), mais cela ferait O(n log(n)) opérations.\n",
    "\n",
    "Il y a mieux !\n",
    "\n",
    "L'idée est de réaranger récursivement chaque sous arbre dans le tas en commençant par les feuilles\n",
    "\n",
    "\n",
    "**Algorithme**\n",
    "On parcourt les éléments en partant de l'avant dernier niveau (donc le niveau qui ne contient pas de feuille, soit d'indice < à n//2 et on remonte j'usqu' à la racine de droite à gauche (donc n//2, n//2-1, n//2-2....0).\n",
    "    chaque élèment est descendu vers les feuilles, jusqu'à ce qu'il soit à une osition \n"
   ]
  },
  {
   "cell_type": "code",
   "execution_count": 8,
   "metadata": {},
   "outputs": [],
   "source": [
    "def convertirListeEnTas(x):\n",
    "    \"\"\"Transform list into a heap, in-place, in O(len(x)) time.\"\"\"\n",
    "    n = len(x)\n",
    "    # Transform bottom-up.  The largest index there's any point to looking at\n",
    "    # is the largest with a child index in-range, so must have 2*i + 1 < n,\n",
    "    # or i < (n-1)/2.  If n is even = 2*j, this is (2*j-1)/2 = j-1/2 so\n",
    "    # j-1 is the largest, which is n//2 - 1.  If n is odd = 2*j+1, this is\n",
    "    # (2*j+1-1)/2 = j so j-1 is the largest, and that's again n//2-1.\n",
    "    for i in reversed(range(n//2)):\n",
    "        descendre(x, i)\n",
    "#### Pour tester :\n",
    "if False :\n",
    "    tas = [1,2,45,8,9,7,6]\n",
    "    convertirListeEnTas(tas)\n",
    "    print (tas)"
   ]
  },
  {
   "cell_type": "markdown",
   "metadata": {},
   "source": [
    "<div class=\"alert alert-warning\" role=\"alert\">\n",
    "Correction de la fonction convertirListeEnTas:  \n",
    "    \n",
    "   - Terminaison : \n",
    "     - Boucle for, qui s'effectue n//2 fois, (et la fonction descendre se termine)\n",
    "     - Complexité : Soit h la hauteur de l'arbre, on numérote les niveau de 0 pour la racine à h-1 pour les feuilles.   \n",
    "       pour un élément d'un niveau i, il pourra au max descendre de h-i-1 niveaux jusqu'à une feuille. Et pour un niveau i, il y $ 2^i $ éléments. Donc au max, il y aura :  \n",
    "       \n",
    "     $ C = \\sum_{i=0}^{h-1} (h-i-1). 2^i $ opérations   \n",
    "     \n",
    "     On effectue le changement de variable $ j = h-i-1 $\n",
    "     \n",
    "     $ C = 2^{h-1} \\sum_{j=1}^{h-1} \\frac 1 {2^j} $ opérations  \n",
    "     \n",
    "     Or $ \\sum_{j=1}^{h-1} \\frac 1 {2^j} $ converge (série géométrie de raison inf à 1)  \n",
    "     \n",
    "     Donc $ C = O (2^{h-1}) $   \n",
    "     \n",
    "     Or h <= log n  \n",
    "     \n",
    "     Donc C = O(n)\n",
    "     \n",
    "     \n",
    "   \n",
    "   - Validité : Il faut vérifier qu'à la fin, la liste a bien une structure de tas.\n",
    "     - Invariant de boucle : Pendant le parcours des éléments on maintient l'invariant suivant : Tous les sous-arbres des élément à droite de l'élément courant (sur le même niveau) sont des tas. A chaque itération, on applique à l'élément courant, la fonction descendre qui place l'élément tel que le sous arbre sous l'élément courant soit un tas. Donc après avoir traité la racine, comme elle vérifie l'invariant, notre arbre est un tas.\n",
    "       \n",
    "> Rq : la correction de cette fonction, dépend directement de la correction de la fonction descendre faite plus haut"
   ]
  },
  {
   "cell_type": "code",
   "execution_count": 32,
   "metadata": {},
   "outputs": [
    {
     "name": "stdout",
     "output_type": "stream",
     "text": [
      "ienf1 3\n",
      "[]\n",
      "ienf1 1\n",
      "[]\n",
      "ienf2 4\n",
      "[]\n",
      "[(1, ('F', 'c')), (1, ('F', 'd')), (2, ('F', 'r')), (2, ('F', 'b')), (5, ('F', 'a'))]\n",
      "coucou\n",
      "ienf1 1\n",
      "[(1, ('F', 'd')), (5, ('F', 'a')), (2, ('F', 'r')), (2, ('F', 'b'))]\n",
      "ienf1unique 3\n",
      "ienf1 1\n",
      "[(2, ('F', 'b')), (5, ('F', 'a')), (2, ('F', 'r'))]\n",
      "ienf2 2\n",
      "[(2, ('F', 'r')), (2, ('N', (1, ('F', 'c')), (1, ('F', 'd')))), (5, ('F', 'a'))]\n",
      "ienf1unique 1\n",
      "(11, ('N', (5, ('F', 'a')), (6, ('N', (2, ('N', (1, ('F', 'c')), (1, ('F', 'd')))), (4, ('N', (2, ('F', 'b')), (2, ('F', 'r'))))))))\n"
     ]
    }
   ],
   "source": [
    "\n",
    "def faireArbre(tas, dbg=False):#dbg pour l'affichage\n",
    "    n = len(tas)\n",
    "    if dbg : print('Tas initial :', tas)\n",
    "    for k in range(n - 1): # il y a n feuilles, il y aura n-1 noeuds binaires\n",
    "        x = suppressionDeLaRacine(tas)#on extrait l'arbre de plus petit poids (occurence) et on réordonne le tas \n",
    "        y = suppressionDeLaRacine(tas)#on extrait l'arbre de plus petit poids (occurence) et on réordonne le tas \n",
    "        ## les deux t-uplets précédents contiennent les 2 arbres de plus petit point du tas \n",
    "        z = ('N', x, y) #on crée le noeud\n",
    "        rajouterElement(tas, (x[0] + y[0], z))#on l'ajoute au tas, et on réarange le tas\n",
    "        if dbg: print('Étape %d : %s' % (k, tas))\n",
    "    return suppressionDeLaRacine(tas) #on extrait l'arbre de huffman. A la fin le tas est composé d'une liste avec pour premiere valeur la somme de toutes les occurences, et en deuxième (indice 1) l'arbre proprement dit\n",
    "#### Pour tester :\n",
    "if True :\n",
    "    phrase = \"abracadabra\"\n",
    "    dicOccu=creationDictionnaireOccurence(phrase)\n",
    "    tas = []\n",
    "    tas = conversionDictionnaireOccurenceEnTas(dicOccu)\n",
    "    print(tas)\n",
    "    print(\"coucou\")\n",
    "    A = faireArbre(tas)\n",
    "    print (A)"
   ]
  },
  {
   "cell_type": "markdown",
   "metadata": {},
   "source": [
    "Meme chose meme avec un appel récursif : "
   ]
  },
  {
   "cell_type": "code",
   "execution_count": 10,
   "metadata": {},
   "outputs": [
    {
     "name": "stdout",
     "output_type": "stream",
     "text": [
      "ienf1 3\n",
      "[]\n",
      "ienf1 1\n",
      "[]\n",
      "ienf2 4\n",
      "[]\n",
      "[(1, ('F', 'c')), (1, ('F', 'd')), (2, ('F', 'r')), (2, ('F', 'b')), (5, ('F', 'a'))]\n",
      "coucou\n",
      "ienf1 1\n",
      "[(1, ('F', 'd')), (5, ('F', 'a')), (2, ('F', 'r')), (2, ('F', 'b'))]\n",
      "ienf1unique 3\n",
      "ienf1 1\n",
      "[(2, ('F', 'b')), (5, ('F', 'a')), (2, ('F', 'r'))]\n",
      "ienf2 2\n",
      "[(2, ('F', 'r')), (2, ('N', (1, ('F', 'c')), (1, ('F', 'd')))), (5, ('F', 'a'))]\n",
      "ienf1unique 1\n",
      "(11, ('N', (5, ('F', 'a')), (6, ('N', (2, ('N', (1, ('F', 'c')), (1, ('F', 'd')))), (4, ('N', (2, ('F', 'b')), (2, ('F', 'r'))))))))\n"
     ]
    }
   ],
   "source": [
    "def faire_arbre_recursif(tas, dbg=False):#dbg pour l'affichage\n",
    "     \n",
    "    while len(tas)>=2:\n",
    "        x = suppressionDeLaRacine(tas)#on extrait l'arbre de plus petit poids (occurence) et on réordonne le tas \n",
    "        y = suppressionDeLaRacine(tas)#on extrait l'arbre de plus petit poids (occurence) et on réordonne le tas \n",
    "        ## les deux t-uplets précédents contiennent les 2 arbres de plus petit point du tas \n",
    "        z = ('N', x, y) #on crée le noeud\n",
    "        rajouterElement(tas, (x[0] + y[0], z))#on l'ajoute au tas, et on réarange le tas\n",
    "        faire_arbre(tas, dbg=False)\n",
    "    return tas[0][1]\n",
    "#### Pour tester :\n",
    "if True :\n",
    "    phrase = \"abracadabra\"\n",
    "    dicOccu=creationDictionnaireOccurence(phrase)\n",
    "    tas = []\n",
    "    tas = conversionDictionnaireOccurenceEnTas(dicOccu)\n",
    "    print(tas)\n",
    "    print(\"coucou\")\n",
    "    A = faire_arbre(tas)\n",
    "    print (A)"
   ]
  },
  {
   "cell_type": "markdown",
   "metadata": {},
   "source": [
    "### Construction de l'arbre en utilisant des listes et sans les tas ###"
   ]
  },
  {
   "cell_type": "markdown",
   "metadata": {},
   "source": [
    "fonction recherche du min   \n",
    "fonction supprimer des élements d'une liste (on utilisera pop)   \n",
    "fonction associer deux noeuds   \n",
    "fonction ajouter un éleemnts dans la liste (append)  \n",
    "\n",
    "tant que la liste contient plus de 1 élément :\n",
    "   on recherche les deux plus petits éléments de la liste\n",
    "   on les supprime de la liste\n",
    "   on les associe les fusionne\n",
    "   on les place à la fin de la liste\n",
    "   \n",
    "par recursivité :\n",
    "si le nombre d'élement de la liste est = à 1, on retourne la liste\n",
    "sinon on appelle la fonction avec la liste dans laquelle on a supprimé les deux plus petits éléments et rajouté, la fusion des deux éléments supprimés"
   ]
  },
  {
   "cell_type": "code",
   "execution_count": 11,
   "metadata": {},
   "outputs": [],
   "source": [
    "def mini (liste):\n",
    "    mini = liste[0][0]\n",
    "    indiceDuMin =0\n",
    "    for i in range (1,len(liste)):\n",
    "        if mini>liste[i][0]:\n",
    "            mini = liste[i][0]\n",
    "            indiceDuMin = i\n",
    "            print (indiceDuMin)\n",
    "    return liste[indiceDuMin],indiceDuMin\n",
    "\n",
    "def supprimerElemeParIndice (liste,i) :\n",
    "    liste.pop(i)\n",
    "    \n",
    "def fusion (e1,e2):\n",
    "    e3occu = e1[0]+e2[0]\n",
    "    return(e3occu ,('N', e1,e2))\n",
    "\n",
    "def ajouterElement (liste,e) :\n",
    "    liste.append(e)"
   ]
  },
  {
   "cell_type": "code",
   "execution_count": 12,
   "metadata": {},
   "outputs": [
    {
     "name": "stdout",
     "output_type": "stream",
     "text": [
      "1\n",
      "3\n",
      "elem1  (1, ('F', 'c')) 3\n",
      "[(5, ('F', 'a')), (2, ('F', 'b')), (2, ('F', 'r')), (1, ('F', 'c')), (1, ('F', 'd'))]\n",
      "1\n",
      "3\n",
      "elem2  (1, ('F', 'd')) 3\n",
      "[(5, ('F', 'a')), (2, ('F', 'b')), (2, ('F', 'r'))]\n",
      "elem3  (2, ('N', (1, ('F', 'c')), (1, ('F', 'd'))))\n",
      "1\n",
      "elem1  (2, ('F', 'b')) 1\n",
      "[(5, ('F', 'a')), (2, ('F', 'b')), (2, ('F', 'r')), (1, ('F', 'c')), (1, ('F', 'd'))]\n",
      "1\n",
      "elem2  (2, ('F', 'r')) 1\n",
      "[(5, ('F', 'a')), (2, ('N', (1, ('F', 'c')), (1, ('F', 'd'))))]\n",
      "elem3  (4, ('N', (2, ('F', 'b')), (2, ('F', 'r'))))\n",
      "1\n",
      "elem1  (2, ('N', (1, ('F', 'c')), (1, ('F', 'd')))) 1\n",
      "[(5, ('F', 'a')), (2, ('F', 'b')), (2, ('F', 'r')), (1, ('F', 'c')), (1, ('F', 'd'))]\n",
      "1\n",
      "elem2  (4, ('N', (2, ('F', 'b')), (2, ('F', 'r')))) 1\n",
      "[(5, ('F', 'a'))]\n",
      "elem3  (6, ('N', (2, ('N', (1, ('F', 'c')), (1, ('F', 'd')))), (4, ('N', (2, ('F', 'b')), (2, ('F', 'r'))))))\n",
      "elem1  (5, ('F', 'a')) 0\n",
      "[(5, ('F', 'a')), (2, ('F', 'b')), (2, ('F', 'r')), (1, ('F', 'c')), (1, ('F', 'd'))]\n",
      "elem2  (6, ('N', (2, ('N', (1, ('F', 'c')), (1, ('F', 'd')))), (4, ('N', (2, ('F', 'b')), (2, ('F', 'r')))))) 0\n",
      "[]\n",
      "elem3  (11, ('N', (5, ('F', 'a')), (6, ('N', (2, ('N', (1, ('F', 'c')), (1, ('F', 'd')))), (4, ('N', (2, ('F', 'b')), (2, ('F', 'r'))))))))\n",
      "(11, ('N', (5, ('F', 'a')), (6, ('N', (2, ('N', (1, ('F', 'c')), (1, ('F', 'd')))), (4, ('N', (2, ('F', 'b')), (2, ('F', 'r'))))))))\n",
      "[(5, ('F', 'a')), (2, ('F', 'b')), (2, ('F', 'r')), (1, ('F', 'c')), (1, ('F', 'd'))]\n"
     ]
    }
   ],
   "source": [
    "from copy import deepcopy\n",
    "def faireArbreAvecListe (listeOccu):\n",
    "    liste = deepcopy(listeOccu)\n",
    "    while (len(liste)>1) :\n",
    "        elem1,indiceElem1 = mini (liste)\n",
    "        print('elem1 ',elem1,indiceElem1)\n",
    "        supprimerElemeParIndice (liste,indiceElem1)\n",
    "\n",
    "        print (listeOccu)\n",
    "\n",
    "        elem2,indiceElem2 = mini (liste)\n",
    "        print('elem2 ',elem2,indiceElem2)\n",
    "        supprimerElemeParIndice (liste,indiceElem2)\n",
    "        print (liste)\n",
    "\n",
    "        elem3 = fusion(elem1,elem2)\n",
    "\n",
    "\n",
    "        print('elem3 ' ,elem3)\n",
    "        ajouterElement (liste,elem3)\n",
    "    return liste[0]\n",
    "\n",
    "phrase ='abracadabra'\n",
    "listeOccu=conversionDictionnaireOccurenceEnListe(creationDictionnaireOccurence(phrase))\n",
    "arbre = faireArbreAvecListe(listeOccu)\n",
    "print (arbre)\n",
    "print (listeOccu)"
   ]
  },
  {
   "cell_type": "markdown",
   "metadata": {},
   "source": [
    "### Complexité preuve et autre...\n",
    "1. Construire le tas initial:(O(n))    \n",
    "2. A chaque iteration ! extraire 2 fois l’arbre de poids min et reorganiser le tas:O(log n)!fabriquer un nouvel arbre a partir des 2 precedents :O(1)!   rajouter ce nouvel arbre au tas:O(logn)   \n",
    "3. n−1 iterations  \n",
    "\n",
    "La construction de l’arbre de Huffman est donc en O(nlogn) "
   ]
  },
  {
   "cell_type": "markdown",
   "metadata": {},
   "source": [
    "**Construction du dictionnaire**"
   ]
  },
  {
   "cell_type": "markdown",
   "metadata": {},
   "source": [
    "Pour construire le dictionnaire qui à chaque caractére associe le code binaire, il faut parcourir l'arbre "
   ]
  },
  {
   "cell_type": "code",
   "execution_count": 34,
   "metadata": {},
   "outputs": [
    {
     "name": "stdout",
     "output_type": "stream",
     "text": [
      "ienf1 3\n",
      "[]\n",
      "ienf1 1\n",
      "[]\n",
      "ienf2 4\n",
      "[]\n",
      "ienf1 1\n",
      "[]\n",
      "ienf1unique 3\n",
      "ienf1 1\n",
      "[]\n",
      "ienf2 2\n",
      "[]\n",
      "ienf1unique 1\n",
      "(11, ('N', (5, ('F', 'a')), (6, ('N', (2, ('N', (1, ('F', 'c')), (1, ('F', 'd')))), (4, ('N', (2, ('F', 'b')), (2, ('F', 'r'))))))))\n",
      "feuille\n",
      "feuille\n",
      "feuille\n",
      "feuille\n",
      "feuille\n",
      "Dico =\n",
      " {'a': '0', 'c': '100', 'd': '101', 'b': '110', 'r': '111'} \n",
      "\n"
     ]
    }
   ],
   "source": [
    "\n",
    "\n",
    "def parcours(arbre,chemin,code) :\n",
    "    '''Parcourt un arbre binaire, et enregistre le chemin suivi '''\n",
    "    \n",
    "    # sur une feuille, on peut associer ce qui est dans chemin à la lettre\n",
    "    if arbre[1][0] =='F' :\n",
    "        print('feuille')\n",
    "        code[arbre[1][1]] = chemin\n",
    "        return\n",
    "    \n",
    "    # sinon, on parcourt l'arbre en mémorisant le chemin pris dans la variable prefixe\n",
    "    \n",
    "    parcours(arbre[1][1],chemin+'0',code) #fils de gauche\n",
    "    \n",
    "    parcours(arbre[1][2],chemin+'1',code)#fils de droite\n",
    "\n",
    "def code_huffman(arbre) :\n",
    "    # on remplit le dictionnaire du code d'Huffman en parcourant l'arbre\n",
    "    code = {}\n",
    "    if len(arbre[1])>2 :\n",
    "        parcours(arbre,'',code)\n",
    "        \n",
    "    else : #Si le texte ne comporte qu'un seul caractére\n",
    "        code[arbre[1][1]] = '0'\n",
    "    return code\n",
    "phrase ='abracadabra'\n",
    "listeOccu=conversionDictionnaireOccurenceEnTas(creationDictionnaireOccurence(phrase))\n",
    "arbre = faireArbre(listeOccu)\n",
    "print(arbre)\n",
    "dico={}\n",
    "dico = code_huffman(arbre)\n",
    "print('Dico =\\n',dico,'\\n')"
   ]
  },
  {
   "cell_type": "markdown",
   "metadata": {},
   "source": [
    "### Complexité preuve et autre...\n",
    "Parcours d'un arbre par recursion"
   ]
  },
  {
   "cell_type": "markdown",
   "metadata": {},
   "source": [
    "## Encodage d'un texte à partir du dictionnaire"
   ]
  },
  {
   "cell_type": "markdown",
   "metadata": {},
   "source": [
    "A partir d'un fichier "
   ]
  },
  {
   "cell_type": "code",
   "execution_count": null,
   "metadata": {},
   "outputs": [],
   "source": [
    "def encodageFichier(dico,fichier) :\n",
    "    '''il faut que le dictionnaire '''\n",
    "    f_in = open(fichier,'r',encoding='utf-8')\n",
    "    texte = f_in.read()\n",
    "    f_in.close()\n",
    "    \n",
    "    caracteresPresentsDico = [c for c in dico.keys()]\n",
    "    binaire = ''\n",
    "    for car in texte :\n",
    "        if car in caracteresPresentsDico :\n",
    "            binaire = binaire + dico[car]\n",
    "        else :\n",
    "            binaire = binaire + dico[' ']\n",
    "    return binaire"
   ]
  },
  {
   "cell_type": "markdown",
   "metadata": {},
   "source": [
    "A  partir d'un texte contenu dans une variable :"
   ]
  },
  {
   "cell_type": "code",
   "execution_count": 37,
   "metadata": {},
   "outputs": [
    {
     "name": "stdout",
     "output_type": "stream",
     "text": [
      "ienf1 3\n",
      "[]\n",
      "ienf1 1\n",
      "[]\n",
      "ienf2 4\n",
      "[]\n",
      "ienf1 1\n",
      "[]\n",
      "ienf1unique 3\n",
      "ienf1 1\n",
      "[]\n",
      "ienf2 2\n",
      "[]\n",
      "ienf1unique 1\n",
      "(11, ('N', (5, ('F', 'a')), (6, ('N', (2, ('N', (1, ('F', 'c')), (1, ('F', 'd')))), (4, ('N', (2, ('F', 'b')), (2, ('F', 'r'))))))))\n",
      "feuille\n",
      "feuille\n",
      "feuille\n",
      "feuille\n",
      "feuille\n",
      "Dico =\n",
      " {'a': '0', 'c': '100', 'd': '101', 'b': '110', 'r': '111'} \n",
      "\n",
      "01101110100010101101110\n"
     ]
    }
   ],
   "source": [
    "def encodage(dico,texte) :\n",
    "\n",
    "    caracteresPresentsDico = [c for c in dico.keys()]\n",
    "    binaire = ''    \n",
    "    for car in texte :\n",
    "        if car in caracteresPresentsDico :\n",
    "            binaire = binaire + dico[car]\n",
    "        else :\n",
    "            binaire = binaire + dico[' ']\n",
    "    return binaire\n",
    "phrase ='abracadabra'\n",
    "listeOccu=conversionDictionnaireOccurenceEnTas(creationDictionnaireOccurence(phrase))\n",
    "arbre = faireArbre(listeOccu)\n",
    "print(arbre)\n",
    "dico={}\n",
    "dico = code_huffman(arbre)\n",
    "print('Dico =\\n',dico,'\\n')\n",
    "binaire = encodage(dico,phrase)\n",
    "print(binaire)"
   ]
  },
  {
   "cell_type": "markdown",
   "metadata": {},
   "source": [
    "## Décodage d'un fichier compressé"
   ]
  },
  {
   "cell_type": "markdown",
   "metadata": {},
   "source": [
    "Il faut fournir l'arbre de Huffman, car il n'est pas unique (de manière générale, ici l'implémentation faite fourni le m^me arbre à chaque fois, mais de manière générale il exciste plusieurs arbres de Huffman pour une même entrée."
   ]
  },
  {
   "cell_type": "markdown",
   "metadata": {},
   "source": [
    "Plusieurs algorythmes suivant qu'on connaisse l'arbre ou le dictionnaire, a discuter...."
   ]
  },
  {
   "cell_type": "code",
   "execution_count": null,
   "metadata": {},
   "outputs": [],
   "source": [
    "def decodageFichier(arbre,fichierCompresse) :\n",
    "\n",
    "    # recopie du contenu du fichier\n",
    "    f_in = open(fichierCompresse,'r',encoding='utf-8')\n",
    "    compresse = f_in.read()\n",
    "    f_in.close()\n",
    "\n",
    "    huffman = arbre\n",
    "    texte = ''\n",
    "\n",
    "    # parcours de l'arbre d'Huffman en fonction du bit lu \n",
    "    for bit in compresse :\n",
    "        \n",
    "        if bit == '0' :\n",
    "            arbre = arbre[1] #fils de gauche\n",
    "        else : \n",
    "            arbre = arbre[2] #fils de droite\n",
    "\n",
    "        # sur une feuille, on décode une lettre et on repart à la racine\n",
    "        if arbre[0] =='F' :\n",
    "            texte = texte + arbre[1]\n",
    "            arbre = huffman\n",
    "    return texte"
   ]
  },
  {
   "cell_type": "code",
   "execution_count": 45,
   "metadata": {},
   "outputs": [
    {
     "name": "stdout",
     "output_type": "stream",
     "text": [
      "ienf1 3\n",
      "[]\n",
      "ienf1 1\n",
      "[]\n",
      "ienf2 4\n",
      "[]\n",
      "ienf1 1\n",
      "[]\n",
      "ienf1unique 3\n",
      "ienf1 1\n",
      "[]\n",
      "ienf2 2\n",
      "[]\n",
      "ienf1unique 1\n",
      "(11, ('N', (5, ('F', 'a')), (6, ('N', (2, ('N', (1, ('F', 'c')), (1, ('F', 'd')))), (4, ('N', (2, ('F', 'b')), (2, ('F', 'r'))))))))\n",
      "feuille\n",
      "feuille\n",
      "feuille\n",
      "feuille\n",
      "feuille\n",
      "Dico =\n",
      " {'a': '0', 'c': '100', 'd': '101', 'b': '110', 'r': '111'} \n",
      "\n",
      "01101110100010101101110\n",
      "0\n",
      "1\n",
      "1\n",
      "0\n",
      "1\n",
      "1\n",
      "1\n",
      "0\n",
      "1\n",
      "0\n",
      "0\n",
      "0\n",
      "1\n",
      "0\n",
      "1\n",
      "0\n",
      "1\n",
      "1\n",
      "0\n",
      "1\n",
      "1\n",
      "1\n",
      "0\n",
      "abracadabra\n"
     ]
    }
   ],
   "source": [
    "def decodage(arbre,binaire) :\n",
    "\n",
    "    huffman = arbre\n",
    "    texte = ''\n",
    "\n",
    "    # parcours de l'arbre d'Huffman en fonction du bit lu \n",
    "    for bit in binaire :\n",
    "        print (bit)\n",
    "        if bit == '0' :\n",
    "            arbre = arbre[1][1] #fils de gauche\n",
    "        else : \n",
    "            arbre = arbre[1][2] #fils de droite\n",
    "\n",
    "        # sur une feuille, on décode une lettre et on repart à la racine\n",
    "        if arbre[1][0] =='F' :\n",
    "            texte = texte + arbre[1][1]\n",
    "            arbre = huffman\n",
    "    return texte\n",
    "phrase ='abracadabra'\n",
    "listeOccu=conversionDictionnaireOccurenceEnTas(creationDictionnaireOccurence(phrase))\n",
    "arbre = faireArbre(listeOccu)\n",
    "print(arbre)\n",
    "dico={}\n",
    "dico = code_huffman(arbre)\n",
    "print('Dico =\\n',dico,'\\n')\n",
    "binaire = encodage(dico,phrase)\n",
    "print(binaire)\n",
    "print(decodage (arbre,binaire))"
   ]
  },
  {
   "cell_type": "code",
   "execution_count": null,
   "metadata": {},
   "outputs": [],
   "source": []
  },
  {
   "cell_type": "code",
   "execution_count": null,
   "metadata": {},
   "outputs": [],
   "source": []
  }
 ],
 "metadata": {
  "kernelspec": {
   "display_name": "Python 3",
   "language": "python",
   "name": "python3"
  },
  "language_info": {
   "codemirror_mode": {
    "name": "ipython",
    "version": 3
   },
   "file_extension": ".py",
   "mimetype": "text/x-python",
   "name": "python",
   "nbconvert_exporter": "python",
   "pygments_lexer": "ipython3",
   "version": "3.7.1"
  }
 },
 "nbformat": 4,
 "nbformat_minor": 2
}
